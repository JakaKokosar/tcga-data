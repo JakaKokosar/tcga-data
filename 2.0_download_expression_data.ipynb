{
 "cells": [
  {
   "cell_type": "code",
   "execution_count": 1,
   "metadata": {},
   "outputs": [],
   "source": [
    "import tempfile\n",
    "import tarfile\n",
    "import pandas as pd\n",
    "import concurrent.futures\n",
    "\n",
    "from tqdm import tqdm\n",
    "from pathlib import Path\n",
    "from concurrent.futures import as_completed\n",
    "\n",
    "from api_helpers import get_tcga_projects, get_uuid_from_manifest, download_files, map_file_name_to_file_uuid, map_file_uuid_to_sample_id"
   ]
  },
  {
   "attachments": {},
   "cell_type": "markdown",
   "metadata": {},
   "source": [
    "# List all TCGA projects"
   ]
  },
  {
   "cell_type": "code",
   "execution_count": 2,
   "metadata": {},
   "outputs": [],
   "source": [
    "tcga_projects = get_tcga_projects()"
   ]
  },
  {
   "attachments": {},
   "cell_type": "markdown",
   "metadata": {},
   "source": [
    "# Generate expression data files for each TCGA project based on the manifest files\n",
    "\n",
    "Can take more than 30min to complete."
   ]
  },
  {
   "cell_type": "code",
   "execution_count": 9,
   "metadata": {},
   "outputs": [
    {
     "name": "stderr",
     "output_type": "stream",
     "text": [
      "  0%|          | 0/3 [00:00<?, ?it/s]"
     ]
    },
    {
     "name": "stderr",
     "output_type": "stream",
     "text": [
      "100%|██████████| 3/3 [15:06<00:00, 302.14s/it]\n"
     ]
    }
   ],
   "source": [
    "def retrieve_expression_data(project: str):\n",
    "    file_uuids = get_uuid_from_manifest(f\"manifest/expression_data/{project}.tsv\")\n",
    "    fname_to_file_uuid = map_file_name_to_file_uuid(f\"manifest/expression_data/{project}.tsv\")\n",
    "    file_uuid_to_sample_id = map_file_uuid_to_sample_id(file_uuids)\n",
    "\n",
    "    file_path = f\"dask/raw/{project}.csv\"\n",
    "    path = Path(file_path)\n",
    "\n",
    "    if path.exists():\n",
    "        return f\"{project} already exists.\"\n",
    "\n",
    "    with tempfile.TemporaryDirectory() as temp_dir:\n",
    "    \n",
    "        with tarfile.open(fileobj=download_files(file_uuids)) as tar:\n",
    "            tar.extractall(temp_dir)\n",
    "\n",
    "        dfs = []\n",
    "        temp_dir_path = Path(temp_dir)\n",
    "        for csv_file in temp_dir_path.glob('**/*.tsv'):\n",
    "            file_uuid = fname_to_file_uuid[csv_file.name]\n",
    "            sample_id = file_uuid_to_sample_id[file_uuid]\n",
    "\n",
    "            df = pd.read_csv(csv_file, sep='\\t', skiprows=[0,2,3,4,5])\n",
    "            df = df[['gene_id', 'tpm_unstranded']] # df['gene_type'] == 'protein_coding']\n",
    "            # if we remove version number there are duplicate gene_ids\n",
    "            # df['gene_id'] = df['gene_id'].str.split('.').str[0] \n",
    "            df = df.set_index('gene_id')\n",
    "            df = df.rename(columns={'tpm_unstranded': sample_id})\n",
    "            dfs.append(df)\n",
    "\n",
    "        final_df = pd.concat(dfs, axis=1)\n",
    "        final_df = final_df.T\n",
    "        final_df.index.name = 'samples'\n",
    "        final_df.columns.name = None\n",
    "        # final_df.to_parquet(f\"data/{project}.parquet\", index=True)\n",
    "        final_df.to_csv(file_path, sep=',')\n",
    "\n",
    "    return f\"Done processing {project}\"\n",
    "\n",
    "\n",
    "with concurrent.futures.ThreadPoolExecutor() as executor:\n",
    "    futures = {executor.submit(retrieve_expression_data, project) for project in tcga_projects}\n",
    "\n",
    "    for future in tqdm(as_completed(futures), total=len(futures)):\n",
    "        # This will raise an exception if one occurred in the thread.\n",
    "        future.result()\n",
    "\n"
   ]
  },
  {
   "cell_type": "code",
   "execution_count": 4,
   "metadata": {},
   "outputs": [
    {
     "data": {
      "text/plain": [
       "['TCGA-BRCA', 'TCGA-THCA', 'TCGA-UCEC', 'TCGA-DLBC', 'TCGA-COAD']"
      ]
     },
     "execution_count": 4,
     "metadata": {},
     "output_type": "execute_result"
    }
   ],
   "source": [
    "tcga_projects[:5]"
   ]
  },
  {
   "cell_type": "code",
   "execution_count": 5,
   "metadata": {},
   "outputs": [
    {
     "data": {
      "text/plain": [
       "['TCGA-CESC', 'TCGA-BLCA', 'TCGA-CHOL', 'TCGA-ESCA', 'TCGA-ACC']"
      ]
     },
     "execution_count": 5,
     "metadata": {},
     "output_type": "execute_result"
    }
   ],
   "source": [
    "tcga_projects[5:10]"
   ]
  },
  {
   "cell_type": "code",
   "execution_count": 6,
   "metadata": {},
   "outputs": [
    {
     "data": {
      "text/plain": [
       "['TCGA-BRCA',\n",
       " 'TCGA-THCA',\n",
       " 'TCGA-UCEC',\n",
       " 'TCGA-DLBC',\n",
       " 'TCGA-COAD',\n",
       " 'TCGA-CESC',\n",
       " 'TCGA-BLCA',\n",
       " 'TCGA-CHOL',\n",
       " 'TCGA-ESCA',\n",
       " 'TCGA-ACC']"
      ]
     },
     "execution_count": 6,
     "metadata": {},
     "output_type": "execute_result"
    }
   ],
   "source": [
    "tcga_projects[:10]\n"
   ]
  },
  {
   "cell_type": "code",
   "execution_count": null,
   "metadata": {},
   "outputs": [],
   "source": []
  }
 ],
 "metadata": {
  "kernelspec": {
   "display_name": "dev",
   "language": "python",
   "name": "python3"
  },
  "language_info": {
   "codemirror_mode": {
    "name": "ipython",
    "version": 3
   },
   "file_extension": ".py",
   "mimetype": "text/x-python",
   "name": "python",
   "nbconvert_exporter": "python",
   "pygments_lexer": "ipython3",
   "version": "3.10.10"
  },
  "orig_nbformat": 4
 },
 "nbformat": 4,
 "nbformat_minor": 2
}
