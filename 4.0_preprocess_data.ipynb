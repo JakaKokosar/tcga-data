{
 "cells": [
  {
   "cell_type": "code",
   "execution_count": 6,
   "metadata": {},
   "outputs": [],
   "source": [
    "import pandas as pd\n",
    "import numpy as np\n",
    "\n",
    "from joblib import Parallel, delayed\n",
    "from api_helpers import get_tcga_projects"
   ]
  },
  {
   "cell_type": "code",
   "execution_count": 7,
   "metadata": {},
   "outputs": [
    {
     "data": {
      "text/plain": [
       "[None,\n",
       " None,\n",
       " None,\n",
       " None,\n",
       " None,\n",
       " None,\n",
       " None,\n",
       " None,\n",
       " None,\n",
       " None,\n",
       " None,\n",
       " None,\n",
       " None,\n",
       " None,\n",
       " None,\n",
       " None,\n",
       " None,\n",
       " None,\n",
       " None,\n",
       " None,\n",
       " None,\n",
       " None,\n",
       " None,\n",
       " None,\n",
       " None,\n",
       " None,\n",
       " None,\n",
       " None,\n",
       " None,\n",
       " None,\n",
       " None,\n",
       " None,\n",
       " None]"
      ]
     },
     "execution_count": 7,
     "metadata": {},
     "output_type": "execute_result"
    }
   ],
   "source": [
    "def preprocess(df: pd.DataFrame):\n",
    "    \"\"\" Preprocess the data by removing non-tumor samples, log transforming and standardizing.\"\"\"\n",
    "    \n",
    "    # tumor types range from 01 - 09, normal types from 10 - 19 and control samples from 20 - 29\n",
    "    df = df.loc[[int(x.split('-')[-1][:2]) < 10 for x in df.index]]\n",
    "\n",
    "    # remove the part indicating tumor type from sample id\n",
    "    df.index = df.index.str.split('-').str[:-1].str.join('-')\n",
    "    \n",
    "    # remove lowly expressed genes\n",
    "    to_keep = np.percentile(df, 75, axis=0) >= 10\n",
    "    df = df.loc[:, to_keep]\n",
    "\n",
    "    # log transform\n",
    "    df = np.log(df + 1)\n",
    "\n",
    "    # standardize\n",
    "    df = (df - df.mean(axis=0)) / df.std(axis=0)\n",
    "\n",
    "    return df\n",
    "\n",
    "\n",
    "def handle(project: str):\n",
    "\n",
    "    file_path = f'data/raw/{project}.csv'\n",
    "\n",
    "    # read expression data\n",
    "    df = pd.read_csv(file_path, index_col=0)\n",
    "\n",
    "    # read survival data\n",
    "    df_survival = pd.read_csv(f'data/raw/{project}-survival.csv', index_col=0)\n",
    "    # drop samples without survival data\n",
    "    df_survival = df_survival.dropna()\n",
    "\n",
    "    df = preprocess(df)\n",
    "    df_merged = pd.merge(df_survival, df, left_index=True, right_index=True)\n",
    "\n",
    "    # save preprocessed data\n",
    "    df_merged.to_csv(f'data/{project}.csv')\n",
    "\n",
    "\n",
    "\n",
    "# handle('TCGA-ACC')\n",
    "tcga_projects = get_tcga_projects()\n",
    "Parallel(n_jobs=len(tcga_projects))(delayed(handle)(project) for project in tcga_projects)\n"
   ]
  },
  {
   "cell_type": "code",
   "execution_count": 8,
   "metadata": {},
   "outputs": [
    {
     "data": {
      "text/plain": [
       "303    6417.0\n",
       "331    5480.0\n",
       "271    5252.0\n",
       "330    5152.0\n",
       "332    4856.0\n",
       "        ...  \n",
       "423      11.0\n",
       "357      11.0\n",
       "310       2.0\n",
       "435       2.0\n",
       "88        1.0\n",
       "Name: time, Length: 519, dtype: float64"
      ]
     },
     "execution_count": 8,
     "metadata": {},
     "output_type": "execute_result"
    }
   ],
   "source": [
    "import pandas as pd\n",
    "\n",
    "pd.read_csv('data/TCGA-HNSC.csv')['time'].sort_values(ascending=False)"
   ]
  },
  {
   "cell_type": "code",
   "execution_count": null,
   "metadata": {},
   "outputs": [],
   "source": []
  }
 ],
 "metadata": {
  "kernelspec": {
   "display_name": "dev",
   "language": "python",
   "name": "python3"
  },
  "language_info": {
   "codemirror_mode": {
    "name": "ipython",
    "version": 3
   },
   "file_extension": ".py",
   "mimetype": "text/x-python",
   "name": "python",
   "nbconvert_exporter": "python",
   "pygments_lexer": "ipython3",
   "version": "3.10.10"
  },
  "orig_nbformat": 4
 },
 "nbformat": 4,
 "nbformat_minor": 2
}
