{
 "cells": [
  {
   "cell_type": "code",
   "execution_count": 1,
   "metadata": {},
   "outputs": [],
   "source": [
    "import pandas as pd\n",
    "import numpy as np\n",
    "\n",
    "from joblib import Parallel, delayed\n",
    "from api_helpers import get_tcga_projects"
   ]
  },
  {
   "cell_type": "code",
   "execution_count": 3,
   "metadata": {},
   "outputs": [
    {
     "data": {
      "text/plain": [
       "[None,\n",
       " None,\n",
       " None,\n",
       " None,\n",
       " None,\n",
       " None,\n",
       " None,\n",
       " None,\n",
       " None,\n",
       " None,\n",
       " None,\n",
       " None,\n",
       " None,\n",
       " None,\n",
       " None,\n",
       " None,\n",
       " None,\n",
       " None,\n",
       " None,\n",
       " None,\n",
       " None,\n",
       " None,\n",
       " None,\n",
       " None,\n",
       " None,\n",
       " None,\n",
       " None,\n",
       " None,\n",
       " None,\n",
       " None,\n",
       " None,\n",
       " None,\n",
       " None]"
      ]
     },
     "execution_count": 3,
     "metadata": {},
     "output_type": "execute_result"
    }
   ],
   "source": [
    "def preprocess(df: pd.DataFrame):\n",
    "    \"\"\" Preprocess the data by removing non-tumor samples, log transforming and standardizing.\"\"\"\n",
    "    \n",
    "    # tumor types range from 01 - 09, normal types from 10 - 19 and control samples from 20 - 29\n",
    "    df = df.loc[[int(x.split('-')[-1][:2]) < 10 for x in df.index]]\n",
    "\n",
    "    # remove the part indicating tumor type from sample id\n",
    "    df.index = df.index.str.split('-').str[:-1].str.join('-')\n",
    "\n",
    "    # log transform\n",
    "    df = np.log(df + 1)\n",
    "\n",
    "    # standardize\n",
    "    df = (df - df.mean(axis=0)) / df.std(axis=0)\n",
    "\n",
    "    return df\n",
    "\n",
    "\n",
    "def handle(project: str):\n",
    "\n",
    "    file_path = f'data/raw/{project}.csv'\n",
    "\n",
    "    # read expression data\n",
    "    df = pd.read_csv(file_path, index_col=0)\n",
    "\n",
    "    # read survival data\n",
    "    df_survival = pd.read_csv(f'data/raw/{project}-survival.csv', index_col=0)\n",
    "\n",
    "    df = preprocess(df)\n",
    "    df_merged = pd.merge(df_survival, df, left_index=True, right_index=True)\n",
    "\n",
    "    # save preprocessed data\n",
    "    df_merged.to_csv(f'data/{project}.csv')\n",
    "\n",
    "\n",
    "tcga_projects = get_tcga_projects()\n",
    "Parallel(n_jobs=len(tcga_projects))(delayed(handle)(project) for project in tcga_projects)\n"
   ]
  },
  {
   "cell_type": "code",
   "execution_count": null,
   "metadata": {},
   "outputs": [],
   "source": []
  }
 ],
 "metadata": {
  "kernelspec": {
   "display_name": "dev",
   "language": "python",
   "name": "python3"
  },
  "language_info": {
   "codemirror_mode": {
    "name": "ipython",
    "version": 3
   },
   "file_extension": ".py",
   "mimetype": "text/x-python",
   "name": "python",
   "nbconvert_exporter": "python",
   "pygments_lexer": "ipython3",
   "version": "3.10.10"
  },
  "orig_nbformat": 4
 },
 "nbformat": 4,
 "nbformat_minor": 2
}
