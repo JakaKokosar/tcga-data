{
 "cells": [
  {
   "cell_type": "code",
   "execution_count": 1,
   "metadata": {},
   "outputs": [],
   "source": [
    "import concurrent.futures\n",
    "\n",
    "from tqdm import tqdm\n",
    "from concurrent.futures import as_completed\n",
    "\n",
    "from api_helpers import get_uuids_for_expression_data_files, generate_manifest_file, get_tcga_projects, get_uuids_for_clinical_data_files"
   ]
  },
  {
   "attachments": {},
   "cell_type": "markdown",
   "metadata": {},
   "source": [
    "# List all TCGA projects"
   ]
  },
  {
   "cell_type": "code",
   "execution_count": 2,
   "metadata": {},
   "outputs": [],
   "source": [
    "tcga_projects = get_tcga_projects()"
   ]
  },
  {
   "attachments": {},
   "cell_type": "markdown",
   "metadata": {},
   "source": [
    "# Generate current manifest files for clinical data of each TCGA project"
   ]
  },
  {
   "cell_type": "code",
   "execution_count": 3,
   "metadata": {},
   "outputs": [
    {
     "name": "stderr",
     "output_type": "stream",
     "text": [
      "100%|██████████| 33/33 [00:14<00:00,  2.34it/s]\n"
     ]
    }
   ],
   "source": [
    "def retrieve_manifest(project: str):\n",
    "    uuids = get_uuids_for_clinical_data_files(project)\n",
    "    generate_manifest_file(uuids, f\"manifest/clinical_data/{project}.tsv\")\n",
    "\n",
    "with concurrent.futures.ThreadPoolExecutor() as executor:\n",
    "    futures = {executor.submit(retrieve_manifest, project) for project in tcga_projects}\n",
    "    \n",
    "    for future in tqdm(as_completed(futures), total=len(futures)):\n",
    "        # This will raise an exception if one occurred in the thread.\n",
    "        future.result()"
   ]
  },
  {
   "attachments": {},
   "cell_type": "markdown",
   "metadata": {},
   "source": [
    "# Generate current manifest files for expression data of each TCGA project"
   ]
  },
  {
   "cell_type": "code",
   "execution_count": 4,
   "metadata": {},
   "outputs": [
    {
     "name": "stderr",
     "output_type": "stream",
     "text": [
      "100%|██████████| 33/33 [00:14<00:00,  2.33it/s]\n"
     ]
    }
   ],
   "source": [
    "def retrieve_manifest(project: str):\n",
    "    uuids = get_uuids_for_expression_data_files(project)\n",
    "    generate_manifest_file(uuids, f\"manifest/expression_data/{project}.tsv\")\n",
    "\n",
    "with concurrent.futures.ThreadPoolExecutor() as executor:\n",
    "    futures = {executor.submit(retrieve_manifest, project) for project in tcga_projects}\n",
    "    \n",
    "    for future in tqdm(as_completed(futures), total=len(futures)):\n",
    "        # This will raise an exception if one occurred in the thread.\n",
    "        future.result()"
   ]
  }
 ],
 "metadata": {
  "kernelspec": {
   "display_name": "dev",
   "language": "python",
   "name": "python3"
  },
  "language_info": {
   "codemirror_mode": {
    "name": "ipython",
    "version": 3
   },
   "file_extension": ".py",
   "mimetype": "text/x-python",
   "name": "python",
   "nbconvert_exporter": "python",
   "pygments_lexer": "ipython3",
   "version": "3.10.10"
  },
  "orig_nbformat": 4
 },
 "nbformat": 4,
 "nbformat_minor": 2
}
